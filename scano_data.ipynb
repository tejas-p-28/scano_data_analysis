{
 "cells": [
  {
   "cell_type": "code",
   "execution_count": 272,
   "id": "43fbb883-1340-4eb3-9d3a-da5f9748551f",
   "metadata": {},
   "outputs": [],
   "source": [
    "import pandas as pd"
   ]
  },
  {
   "cell_type": "code",
   "execution_count": 273,
   "id": "fc5814f4-d65c-46de-a752-d771990fad40",
   "metadata": {},
   "outputs": [],
   "source": [
    "data = pd.read_json('data.json')\n",
    "df = pd.DataFrame(data)"
   ]
  },
  {
   "cell_type": "code",
   "execution_count": 274,
   "id": "837edebe-1579-42e3-91ab-52d17d8f9801",
   "metadata": {},
   "outputs": [],
   "source": [
    "#df.to_csv('data.csv', index = False)"
   ]
  },
  {
   "cell_type": "code",
   "execution_count": 275,
   "id": "4ff9fe96-fc4d-4afd-bab3-2db448f26c70",
   "metadata": {},
   "outputs": [
    {
     "data": {
      "text/plain": [
       "Index(['doctor', 'clinic', 'clinicMobile', 'location', 'address', 'kiosk',\n",
       "       'monthWiseCounts', 'diseaseWiseMonthCount', 'activeInLast7Days'],\n",
       "      dtype='object')"
      ]
     },
     "execution_count": 275,
     "metadata": {},
     "output_type": "execute_result"
    }
   ],
   "source": [
    "df.columns"
   ]
  },
  {
   "cell_type": "code",
   "execution_count": 276,
   "id": "9b833961-5d5f-4d73-8aef-2f99ae364568",
   "metadata": {},
   "outputs": [],
   "source": [
    "df = df.drop(columns = ['doctor', 'clinic', 'clinicMobile', 'kiosk','activeInLast7Days'])"
   ]
  },
  {
   "cell_type": "code",
   "execution_count": 277,
   "id": "8d333298-615c-4953-83b9-96291349b65d",
   "metadata": {},
   "outputs": [
    {
     "data": {
      "text/plain": [
       "0    [{'month': 'October 2024', 'count': 221}, {'mo...\n",
       "1    [{'month': 'October 2024', 'count': 0}, {'mont...\n",
       "2    [{'month': 'October 2024', 'count': 2}, {'mont...\n",
       "3    [{'month': 'October 2024', 'count': 341}, {'mo...\n",
       "4    [{'month': 'October 2024', 'count': 0}, {'mont...\n",
       "Name: monthWiseCounts, dtype: object"
      ]
     },
     "execution_count": 277,
     "metadata": {},
     "output_type": "execute_result"
    }
   ],
   "source": [
    "df['monthWiseCounts'].head(5)"
   ]
  },
  {
   "cell_type": "code",
   "execution_count": 278,
   "id": "541bae7e-05c5-452f-9ea4-6c0b9060ac39",
   "metadata": {},
   "outputs": [],
   "source": [
    "month_wise_counts = pd.DataFrame(df['monthWiseCounts'].to_list(), columns = ['oct_month','sep_month','aug_month'])"
   ]
  },
  {
   "cell_type": "code",
   "execution_count": 279,
   "id": "9fe9eb56-5811-4067-95d5-4b5c7f0b5b3d",
   "metadata": {},
   "outputs": [
    {
     "data": {
      "text/plain": [
       "oct_month    0\n",
       "sep_month    0\n",
       "aug_month    0\n",
       "dtype: int64"
      ]
     },
     "execution_count": 279,
     "metadata": {},
     "output_type": "execute_result"
    }
   ],
   "source": [
    "month_wise_counts.isna().sum()"
   ]
  },
  {
   "cell_type": "code",
   "execution_count": 280,
   "id": "84ebeaf3-3005-425c-b620-d80ba1747c36",
   "metadata": {},
   "outputs": [],
   "source": [
    "month_wise_counts = pd.DataFrame(month_wise_counts)"
   ]
  },
  {
   "cell_type": "code",
   "execution_count": 281,
   "id": "967dd6ac-7be4-423d-a22d-18f4dc782b51",
   "metadata": {},
   "outputs": [
    {
     "data": {
      "text/html": [
       "<div>\n",
       "<style scoped>\n",
       "    .dataframe tbody tr th:only-of-type {\n",
       "        vertical-align: middle;\n",
       "    }\n",
       "\n",
       "    .dataframe tbody tr th {\n",
       "        vertical-align: top;\n",
       "    }\n",
       "\n",
       "    .dataframe thead th {\n",
       "        text-align: right;\n",
       "    }\n",
       "</style>\n",
       "<table border=\"1\" class=\"dataframe\">\n",
       "  <thead>\n",
       "    <tr style=\"text-align: right;\">\n",
       "      <th></th>\n",
       "      <th>oct_month</th>\n",
       "      <th>sep_month</th>\n",
       "      <th>aug_month</th>\n",
       "    </tr>\n",
       "  </thead>\n",
       "  <tbody>\n",
       "    <tr>\n",
       "      <th>0</th>\n",
       "      <td>{'month': 'October 2024', 'count': 221}</td>\n",
       "      <td>{'month': 'September 2024', 'count': 265}</td>\n",
       "      <td>{'month': 'August 2024', 'count': 361}</td>\n",
       "    </tr>\n",
       "    <tr>\n",
       "      <th>1</th>\n",
       "      <td>{'month': 'October 2024', 'count': 0}</td>\n",
       "      <td>{'month': 'September 2024', 'count': 0}</td>\n",
       "      <td>{'month': 'August 2024', 'count': 0}</td>\n",
       "    </tr>\n",
       "    <tr>\n",
       "      <th>2</th>\n",
       "      <td>{'month': 'October 2024', 'count': 2}</td>\n",
       "      <td>{'month': 'September 2024', 'count': 0}</td>\n",
       "      <td>{'month': 'August 2024', 'count': 0}</td>\n",
       "    </tr>\n",
       "    <tr>\n",
       "      <th>3</th>\n",
       "      <td>{'month': 'October 2024', 'count': 341}</td>\n",
       "      <td>{'month': 'September 2024', 'count': 592}</td>\n",
       "      <td>{'month': 'August 2024', 'count': 328}</td>\n",
       "    </tr>\n",
       "    <tr>\n",
       "      <th>4</th>\n",
       "      <td>{'month': 'October 2024', 'count': 0}</td>\n",
       "      <td>{'month': 'September 2024', 'count': 0}</td>\n",
       "      <td>{'month': 'August 2024', 'count': 0}</td>\n",
       "    </tr>\n",
       "    <tr>\n",
       "      <th>5</th>\n",
       "      <td>{'month': 'October 2024', 'count': 86}</td>\n",
       "      <td>{'month': 'September 2024', 'count': 60}</td>\n",
       "      <td>{'month': 'August 2024', 'count': 26}</td>\n",
       "    </tr>\n",
       "    <tr>\n",
       "      <th>6</th>\n",
       "      <td>{'month': 'October 2024', 'count': 0}</td>\n",
       "      <td>{'month': 'September 2024', 'count': 16}</td>\n",
       "      <td>{'month': 'August 2024', 'count': 44}</td>\n",
       "    </tr>\n",
       "    <tr>\n",
       "      <th>7</th>\n",
       "      <td>{'month': 'October 2024', 'count': 278}</td>\n",
       "      <td>{'month': 'September 2024', 'count': 224}</td>\n",
       "      <td>{'month': 'August 2024', 'count': 155}</td>\n",
       "    </tr>\n",
       "    <tr>\n",
       "      <th>8</th>\n",
       "      <td>{'month': 'October 2024', 'count': 24}</td>\n",
       "      <td>{'month': 'September 2024', 'count': 88}</td>\n",
       "      <td>{'month': 'August 2024', 'count': 0}</td>\n",
       "    </tr>\n",
       "    <tr>\n",
       "      <th>9</th>\n",
       "      <td>{'month': 'October 2024', 'count': 0}</td>\n",
       "      <td>{'month': 'September 2024', 'count': 0}</td>\n",
       "      <td>{'month': 'August 2024', 'count': 0}</td>\n",
       "    </tr>\n",
       "  </tbody>\n",
       "</table>\n",
       "</div>"
      ],
      "text/plain": [
       "                                 oct_month  \\\n",
       "0  {'month': 'October 2024', 'count': 221}   \n",
       "1    {'month': 'October 2024', 'count': 0}   \n",
       "2    {'month': 'October 2024', 'count': 2}   \n",
       "3  {'month': 'October 2024', 'count': 341}   \n",
       "4    {'month': 'October 2024', 'count': 0}   \n",
       "5   {'month': 'October 2024', 'count': 86}   \n",
       "6    {'month': 'October 2024', 'count': 0}   \n",
       "7  {'month': 'October 2024', 'count': 278}   \n",
       "8   {'month': 'October 2024', 'count': 24}   \n",
       "9    {'month': 'October 2024', 'count': 0}   \n",
       "\n",
       "                                   sep_month  \\\n",
       "0  {'month': 'September 2024', 'count': 265}   \n",
       "1    {'month': 'September 2024', 'count': 0}   \n",
       "2    {'month': 'September 2024', 'count': 0}   \n",
       "3  {'month': 'September 2024', 'count': 592}   \n",
       "4    {'month': 'September 2024', 'count': 0}   \n",
       "5   {'month': 'September 2024', 'count': 60}   \n",
       "6   {'month': 'September 2024', 'count': 16}   \n",
       "7  {'month': 'September 2024', 'count': 224}   \n",
       "8   {'month': 'September 2024', 'count': 88}   \n",
       "9    {'month': 'September 2024', 'count': 0}   \n",
       "\n",
       "                                aug_month  \n",
       "0  {'month': 'August 2024', 'count': 361}  \n",
       "1    {'month': 'August 2024', 'count': 0}  \n",
       "2    {'month': 'August 2024', 'count': 0}  \n",
       "3  {'month': 'August 2024', 'count': 328}  \n",
       "4    {'month': 'August 2024', 'count': 0}  \n",
       "5   {'month': 'August 2024', 'count': 26}  \n",
       "6   {'month': 'August 2024', 'count': 44}  \n",
       "7  {'month': 'August 2024', 'count': 155}  \n",
       "8    {'month': 'August 2024', 'count': 0}  \n",
       "9    {'month': 'August 2024', 'count': 0}  "
      ]
     },
     "execution_count": 281,
     "metadata": {},
     "output_type": "execute_result"
    }
   ],
   "source": [
    "month_wise_counts.head(10)"
   ]
  },
  {
   "cell_type": "code",
   "execution_count": 282,
   "id": "f7edea07-39dd-491d-ad60-149051677144",
   "metadata": {},
   "outputs": [
    {
     "data": {
      "text/html": [
       "<div>\n",
       "<style scoped>\n",
       "    .dataframe tbody tr th:only-of-type {\n",
       "        vertical-align: middle;\n",
       "    }\n",
       "\n",
       "    .dataframe tbody tr th {\n",
       "        vertical-align: top;\n",
       "    }\n",
       "\n",
       "    .dataframe thead th {\n",
       "        text-align: right;\n",
       "    }\n",
       "</style>\n",
       "<table border=\"1\" class=\"dataframe\">\n",
       "  <thead>\n",
       "    <tr style=\"text-align: right;\">\n",
       "      <th></th>\n",
       "      <th>location</th>\n",
       "      <th>address</th>\n",
       "      <th>monthWiseCounts</th>\n",
       "      <th>diseaseWiseMonthCount</th>\n",
       "    </tr>\n",
       "  </thead>\n",
       "  <tbody>\n",
       "    <tr>\n",
       "      <th>0</th>\n",
       "      <td></td>\n",
       "      <td>Office 1102, Montvert Office Spaces, Opp to Na...</td>\n",
       "      <td>[{'month': 'October 2024', 'count': 221}, {'mo...</td>\n",
       "      <td>[{'month': 'October 2024', 'diseaseWiseCount':...</td>\n",
       "    </tr>\n",
       "    <tr>\n",
       "      <th>1</th>\n",
       "      <td></td>\n",
       "      <td>Office 1102, Montvert Office Spaces, Opp to Na...</td>\n",
       "      <td>[{'month': 'October 2024', 'count': 0}, {'mont...</td>\n",
       "      <td>[]</td>\n",
       "    </tr>\n",
       "    <tr>\n",
       "      <th>2</th>\n",
       "      <td>pune</td>\n",
       "      <td>Baner ,Pune</td>\n",
       "      <td>[{'month': 'October 2024', 'count': 2}, {'mont...</td>\n",
       "      <td>[{'month': 'October 2024', 'diseaseWiseCount':...</td>\n",
       "    </tr>\n",
       "    <tr>\n",
       "      <th>3</th>\n",
       "      <td>karad</td>\n",
       "      <td>Karad</td>\n",
       "      <td>[{'month': 'October 2024', 'count': 341}, {'mo...</td>\n",
       "      <td>[{'month': 'October 2024', 'diseaseWiseCount':...</td>\n",
       "    </tr>\n",
       "    <tr>\n",
       "      <th>4</th>\n",
       "      <td>navsari</td>\n",
       "      <td>Navsari</td>\n",
       "      <td>[{'month': 'October 2024', 'count': 0}, {'mont...</td>\n",
       "      <td>[]</td>\n",
       "    </tr>\n",
       "  </tbody>\n",
       "</table>\n",
       "</div>"
      ],
      "text/plain": [
       "  location                                            address  \\\n",
       "0           Office 1102, Montvert Office Spaces, Opp to Na...   \n",
       "1           Office 1102, Montvert Office Spaces, Opp to Na...   \n",
       "2     pune                                        Baner ,Pune   \n",
       "3    karad                                              Karad   \n",
       "4  navsari                                            Navsari   \n",
       "\n",
       "                                     monthWiseCounts  \\\n",
       "0  [{'month': 'October 2024', 'count': 221}, {'mo...   \n",
       "1  [{'month': 'October 2024', 'count': 0}, {'mont...   \n",
       "2  [{'month': 'October 2024', 'count': 2}, {'mont...   \n",
       "3  [{'month': 'October 2024', 'count': 341}, {'mo...   \n",
       "4  [{'month': 'October 2024', 'count': 0}, {'mont...   \n",
       "\n",
       "                               diseaseWiseMonthCount  \n",
       "0  [{'month': 'October 2024', 'diseaseWiseCount':...  \n",
       "1                                                 []  \n",
       "2  [{'month': 'October 2024', 'diseaseWiseCount':...  \n",
       "3  [{'month': 'October 2024', 'diseaseWiseCount':...  \n",
       "4                                                 []  "
      ]
     },
     "execution_count": 282,
     "metadata": {},
     "output_type": "execute_result"
    }
   ],
   "source": [
    "df.head()"
   ]
  },
  {
   "cell_type": "code",
   "execution_count": null,
   "id": "44e5d72e-d4d3-4c99-a62c-61acb61c37c1",
   "metadata": {},
   "outputs": [],
   "source": []
  },
  {
   "cell_type": "code",
   "execution_count": 283,
   "id": "191ba926-7122-404c-bbe7-e3411eeb543b",
   "metadata": {},
   "outputs": [],
   "source": [
    "df = pd.concat([df, month_wise_counts], axis=1)\n",
    "df = df.drop(columns=[\"monthWiseCounts\"])"
   ]
  },
  {
   "cell_type": "code",
   "execution_count": 284,
   "id": "4f863192-a7f6-4975-ac0e-a33988c23bc0",
   "metadata": {},
   "outputs": [
    {
     "data": {
      "text/html": [
       "<div>\n",
       "<style scoped>\n",
       "    .dataframe tbody tr th:only-of-type {\n",
       "        vertical-align: middle;\n",
       "    }\n",
       "\n",
       "    .dataframe tbody tr th {\n",
       "        vertical-align: top;\n",
       "    }\n",
       "\n",
       "    .dataframe thead th {\n",
       "        text-align: right;\n",
       "    }\n",
       "</style>\n",
       "<table border=\"1\" class=\"dataframe\">\n",
       "  <thead>\n",
       "    <tr style=\"text-align: right;\">\n",
       "      <th></th>\n",
       "      <th>location</th>\n",
       "      <th>address</th>\n",
       "      <th>diseaseWiseMonthCount</th>\n",
       "      <th>oct_month</th>\n",
       "      <th>sep_month</th>\n",
       "      <th>aug_month</th>\n",
       "    </tr>\n",
       "  </thead>\n",
       "  <tbody>\n",
       "    <tr>\n",
       "      <th>0</th>\n",
       "      <td></td>\n",
       "      <td>Office 1102, Montvert Office Spaces, Opp to Na...</td>\n",
       "      <td>[{'month': 'October 2024', 'diseaseWiseCount':...</td>\n",
       "      <td>{'month': 'October 2024', 'count': 221}</td>\n",
       "      <td>{'month': 'September 2024', 'count': 265}</td>\n",
       "      <td>{'month': 'August 2024', 'count': 361}</td>\n",
       "    </tr>\n",
       "    <tr>\n",
       "      <th>1</th>\n",
       "      <td></td>\n",
       "      <td>Office 1102, Montvert Office Spaces, Opp to Na...</td>\n",
       "      <td>[]</td>\n",
       "      <td>{'month': 'October 2024', 'count': 0}</td>\n",
       "      <td>{'month': 'September 2024', 'count': 0}</td>\n",
       "      <td>{'month': 'August 2024', 'count': 0}</td>\n",
       "    </tr>\n",
       "    <tr>\n",
       "      <th>2</th>\n",
       "      <td>pune</td>\n",
       "      <td>Baner ,Pune</td>\n",
       "      <td>[{'month': 'October 2024', 'diseaseWiseCount':...</td>\n",
       "      <td>{'month': 'October 2024', 'count': 2}</td>\n",
       "      <td>{'month': 'September 2024', 'count': 0}</td>\n",
       "      <td>{'month': 'August 2024', 'count': 0}</td>\n",
       "    </tr>\n",
       "    <tr>\n",
       "      <th>3</th>\n",
       "      <td>karad</td>\n",
       "      <td>Karad</td>\n",
       "      <td>[{'month': 'October 2024', 'diseaseWiseCount':...</td>\n",
       "      <td>{'month': 'October 2024', 'count': 341}</td>\n",
       "      <td>{'month': 'September 2024', 'count': 592}</td>\n",
       "      <td>{'month': 'August 2024', 'count': 328}</td>\n",
       "    </tr>\n",
       "    <tr>\n",
       "      <th>4</th>\n",
       "      <td>navsari</td>\n",
       "      <td>Navsari</td>\n",
       "      <td>[]</td>\n",
       "      <td>{'month': 'October 2024', 'count': 0}</td>\n",
       "      <td>{'month': 'September 2024', 'count': 0}</td>\n",
       "      <td>{'month': 'August 2024', 'count': 0}</td>\n",
       "    </tr>\n",
       "  </tbody>\n",
       "</table>\n",
       "</div>"
      ],
      "text/plain": [
       "  location                                            address  \\\n",
       "0           Office 1102, Montvert Office Spaces, Opp to Na...   \n",
       "1           Office 1102, Montvert Office Spaces, Opp to Na...   \n",
       "2     pune                                        Baner ,Pune   \n",
       "3    karad                                              Karad   \n",
       "4  navsari                                            Navsari   \n",
       "\n",
       "                               diseaseWiseMonthCount  \\\n",
       "0  [{'month': 'October 2024', 'diseaseWiseCount':...   \n",
       "1                                                 []   \n",
       "2  [{'month': 'October 2024', 'diseaseWiseCount':...   \n",
       "3  [{'month': 'October 2024', 'diseaseWiseCount':...   \n",
       "4                                                 []   \n",
       "\n",
       "                                 oct_month  \\\n",
       "0  {'month': 'October 2024', 'count': 221}   \n",
       "1    {'month': 'October 2024', 'count': 0}   \n",
       "2    {'month': 'October 2024', 'count': 2}   \n",
       "3  {'month': 'October 2024', 'count': 341}   \n",
       "4    {'month': 'October 2024', 'count': 0}   \n",
       "\n",
       "                                   sep_month  \\\n",
       "0  {'month': 'September 2024', 'count': 265}   \n",
       "1    {'month': 'September 2024', 'count': 0}   \n",
       "2    {'month': 'September 2024', 'count': 0}   \n",
       "3  {'month': 'September 2024', 'count': 592}   \n",
       "4    {'month': 'September 2024', 'count': 0}   \n",
       "\n",
       "                                aug_month  \n",
       "0  {'month': 'August 2024', 'count': 361}  \n",
       "1    {'month': 'August 2024', 'count': 0}  \n",
       "2    {'month': 'August 2024', 'count': 0}  \n",
       "3  {'month': 'August 2024', 'count': 328}  \n",
       "4    {'month': 'August 2024', 'count': 0}  "
      ]
     },
     "execution_count": 284,
     "metadata": {},
     "output_type": "execute_result"
    }
   ],
   "source": [
    "df.head()"
   ]
  },
  {
   "cell_type": "code",
   "execution_count": 285,
   "id": "8949d824-3b32-4a38-bbd3-ec4a6d8b2fb7",
   "metadata": {},
   "outputs": [
    {
     "data": {
      "text/plain": [
       "0    {'month': 'October 2024', 'count': 221}\n",
       "1      {'month': 'October 2024', 'count': 0}\n",
       "2      {'month': 'October 2024', 'count': 2}\n",
       "3    {'month': 'October 2024', 'count': 341}\n",
       "4      {'month': 'October 2024', 'count': 0}\n",
       "Name: oct_month, dtype: object"
      ]
     },
     "execution_count": 285,
     "metadata": {},
     "output_type": "execute_result"
    }
   ],
   "source": [
    "df['oct_month'].head()"
   ]
  },
  {
   "cell_type": "code",
   "execution_count": 291,
   "id": "8bca468a-42ba-4f7a-a4cf-de85bbdb3762",
   "metadata": {},
   "outputs": [
    {
     "ename": "TypeError",
     "evalue": "'numpy.ndarray' object is not callable",
     "output_type": "error",
     "traceback": [
      "\u001b[1;31m---------------------------------------------------------------------------\u001b[0m",
      "\u001b[1;31mTypeError\u001b[0m                                 Traceback (most recent call last)",
      "Cell \u001b[1;32mIn[291], line 1\u001b[0m\n\u001b[1;32m----> 1\u001b[0m oct_month \u001b[38;5;241m=\u001b[39m pd\u001b[38;5;241m.\u001b[39mDataFrame(\u001b[43mdf\u001b[49m\u001b[43m[\u001b[49m\u001b[38;5;124;43m'\u001b[39;49m\u001b[38;5;124;43moct_month\u001b[39;49m\u001b[38;5;124;43m'\u001b[39;49m\u001b[43m]\u001b[49m\u001b[38;5;241;43m.\u001b[39;49m\u001b[43mvalues\u001b[49m\u001b[43m(\u001b[49m\u001b[43m)\u001b[49m\u001b[38;5;241m.\u001b[39mto_list(), columns \u001b[38;5;241m=\u001b[39m [\u001b[38;5;124m'\u001b[39m\u001b[38;5;124mmonthwise_oct_month\u001b[39m\u001b[38;5;124m'\u001b[39m,\u001b[38;5;124m'\u001b[39m\u001b[38;5;124moct_counts\u001b[39m\u001b[38;5;124m'\u001b[39m])\n",
      "\u001b[1;31mTypeError\u001b[0m: 'numpy.ndarray' object is not callable"
     ]
    }
   ],
   "source": [
    "oct_month = pd.DataFrame(df['oct_month'].values().to_list(), columns = ['monthwise_oct_month','oct_counts'])"
   ]
  },
  {
   "cell_type": "code",
   "execution_count": 287,
   "id": "5f2e94e0-617d-471a-96ed-5136f0f0e908",
   "metadata": {},
   "outputs": [],
   "source": [
    "oct_months = pd.DataFrame(oct_month)"
   ]
  },
  {
   "cell_type": "code",
   "execution_count": 288,
   "id": "2753536f-18df-49f2-988e-c59cdcc0df71",
   "metadata": {},
   "outputs": [
    {
     "data": {
      "text/html": [
       "<div>\n",
       "<style scoped>\n",
       "    .dataframe tbody tr th:only-of-type {\n",
       "        vertical-align: middle;\n",
       "    }\n",
       "\n",
       "    .dataframe tbody tr th {\n",
       "        vertical-align: top;\n",
       "    }\n",
       "\n",
       "    .dataframe thead th {\n",
       "        text-align: right;\n",
       "    }\n",
       "</style>\n",
       "<table border=\"1\" class=\"dataframe\">\n",
       "  <thead>\n",
       "    <tr style=\"text-align: right;\">\n",
       "      <th></th>\n",
       "      <th>location</th>\n",
       "      <th>address</th>\n",
       "      <th>diseaseWiseMonthCount</th>\n",
       "      <th>sep_month</th>\n",
       "      <th>aug_month</th>\n",
       "      <th>monthwise_oct_month</th>\n",
       "      <th>oct_counts</th>\n",
       "    </tr>\n",
       "  </thead>\n",
       "  <tbody>\n",
       "    <tr>\n",
       "      <th>0</th>\n",
       "      <td></td>\n",
       "      <td>Office 1102, Montvert Office Spaces, Opp to Na...</td>\n",
       "      <td>[{'month': 'October 2024', 'diseaseWiseCount':...</td>\n",
       "      <td>{'month': 'September 2024', 'count': 265}</td>\n",
       "      <td>{'month': 'August 2024', 'count': 361}</td>\n",
       "      <td>NaN</td>\n",
       "      <td>NaN</td>\n",
       "    </tr>\n",
       "    <tr>\n",
       "      <th>1</th>\n",
       "      <td></td>\n",
       "      <td>Office 1102, Montvert Office Spaces, Opp to Na...</td>\n",
       "      <td>[]</td>\n",
       "      <td>{'month': 'September 2024', 'count': 0}</td>\n",
       "      <td>{'month': 'August 2024', 'count': 0}</td>\n",
       "      <td>NaN</td>\n",
       "      <td>NaN</td>\n",
       "    </tr>\n",
       "    <tr>\n",
       "      <th>2</th>\n",
       "      <td>pune</td>\n",
       "      <td>Baner ,Pune</td>\n",
       "      <td>[{'month': 'October 2024', 'diseaseWiseCount':...</td>\n",
       "      <td>{'month': 'September 2024', 'count': 0}</td>\n",
       "      <td>{'month': 'August 2024', 'count': 0}</td>\n",
       "      <td>NaN</td>\n",
       "      <td>NaN</td>\n",
       "    </tr>\n",
       "    <tr>\n",
       "      <th>3</th>\n",
       "      <td>karad</td>\n",
       "      <td>Karad</td>\n",
       "      <td>[{'month': 'October 2024', 'diseaseWiseCount':...</td>\n",
       "      <td>{'month': 'September 2024', 'count': 592}</td>\n",
       "      <td>{'month': 'August 2024', 'count': 328}</td>\n",
       "      <td>NaN</td>\n",
       "      <td>NaN</td>\n",
       "    </tr>\n",
       "    <tr>\n",
       "      <th>4</th>\n",
       "      <td>navsari</td>\n",
       "      <td>Navsari</td>\n",
       "      <td>[]</td>\n",
       "      <td>{'month': 'September 2024', 'count': 0}</td>\n",
       "      <td>{'month': 'August 2024', 'count': 0}</td>\n",
       "      <td>NaN</td>\n",
       "      <td>NaN</td>\n",
       "    </tr>\n",
       "    <tr>\n",
       "      <th>...</th>\n",
       "      <td>...</td>\n",
       "      <td>...</td>\n",
       "      <td>...</td>\n",
       "      <td>...</td>\n",
       "      <td>...</td>\n",
       "      <td>...</td>\n",
       "      <td>...</td>\n",
       "    </tr>\n",
       "    <tr>\n",
       "      <th>199</th>\n",
       "      <td></td>\n",
       "      <td>Care Dental Clinic,No :4, New Avadi Rd, Villiv...</td>\n",
       "      <td>[]</td>\n",
       "      <td>{'month': 'September 2024', 'count': 0}</td>\n",
       "      <td>{'month': 'August 2024', 'count': 0}</td>\n",
       "      <td>NaN</td>\n",
       "      <td>NaN</td>\n",
       "    </tr>\n",
       "    <tr>\n",
       "      <th>200</th>\n",
       "      <td></td>\n",
       "      <td>Narayanappa Complex, Begur-Hulimavu Road, DLF ...</td>\n",
       "      <td>[]</td>\n",
       "      <td>{'month': 'September 2024', 'count': 0}</td>\n",
       "      <td>{'month': 'August 2024', 'count': 0}</td>\n",
       "      <td>NaN</td>\n",
       "      <td>NaN</td>\n",
       "    </tr>\n",
       "    <tr>\n",
       "      <th>201</th>\n",
       "      <td></td>\n",
       "      <td>Tumkur, Karnataka</td>\n",
       "      <td>[]</td>\n",
       "      <td>{'month': 'September 2024', 'count': 0}</td>\n",
       "      <td>{'month': 'August 2024', 'count': 0}</td>\n",
       "      <td>NaN</td>\n",
       "      <td>NaN</td>\n",
       "    </tr>\n",
       "    <tr>\n",
       "      <th>202</th>\n",
       "      <td></td>\n",
       "      <td>Dr Dhruv`s Superspeciality Dental Hospital, Sh...</td>\n",
       "      <td>[]</td>\n",
       "      <td>{'month': 'September 2024', 'count': 0}</td>\n",
       "      <td>{'month': 'August 2024', 'count': 0}</td>\n",
       "      <td>NaN</td>\n",
       "      <td>NaN</td>\n",
       "    </tr>\n",
       "    <tr>\n",
       "      <th>203</th>\n",
       "      <td>bengaluru</td>\n",
       "      <td>Dental Diagnostic Centre, Bengaluru, Karnataka</td>\n",
       "      <td>[]</td>\n",
       "      <td>{'month': 'September 2024', 'count': 0}</td>\n",
       "      <td>{'month': 'August 2024', 'count': 0}</td>\n",
       "      <td>NaN</td>\n",
       "      <td>NaN</td>\n",
       "    </tr>\n",
       "  </tbody>\n",
       "</table>\n",
       "<p>204 rows × 7 columns</p>\n",
       "</div>"
      ],
      "text/plain": [
       "      location                                            address  \\\n",
       "0               Office 1102, Montvert Office Spaces, Opp to Na...   \n",
       "1               Office 1102, Montvert Office Spaces, Opp to Na...   \n",
       "2         pune                                        Baner ,Pune   \n",
       "3        karad                                              Karad   \n",
       "4      navsari                                            Navsari   \n",
       "..         ...                                                ...   \n",
       "199             Care Dental Clinic,No :4, New Avadi Rd, Villiv...   \n",
       "200             Narayanappa Complex, Begur-Hulimavu Road, DLF ...   \n",
       "201                                             Tumkur, Karnataka   \n",
       "202             Dr Dhruv`s Superspeciality Dental Hospital, Sh...   \n",
       "203  bengaluru     Dental Diagnostic Centre, Bengaluru, Karnataka   \n",
       "\n",
       "                                 diseaseWiseMonthCount  \\\n",
       "0    [{'month': 'October 2024', 'diseaseWiseCount':...   \n",
       "1                                                   []   \n",
       "2    [{'month': 'October 2024', 'diseaseWiseCount':...   \n",
       "3    [{'month': 'October 2024', 'diseaseWiseCount':...   \n",
       "4                                                   []   \n",
       "..                                                 ...   \n",
       "199                                                 []   \n",
       "200                                                 []   \n",
       "201                                                 []   \n",
       "202                                                 []   \n",
       "203                                                 []   \n",
       "\n",
       "                                     sep_month  \\\n",
       "0    {'month': 'September 2024', 'count': 265}   \n",
       "1      {'month': 'September 2024', 'count': 0}   \n",
       "2      {'month': 'September 2024', 'count': 0}   \n",
       "3    {'month': 'September 2024', 'count': 592}   \n",
       "4      {'month': 'September 2024', 'count': 0}   \n",
       "..                                         ...   \n",
       "199    {'month': 'September 2024', 'count': 0}   \n",
       "200    {'month': 'September 2024', 'count': 0}   \n",
       "201    {'month': 'September 2024', 'count': 0}   \n",
       "202    {'month': 'September 2024', 'count': 0}   \n",
       "203    {'month': 'September 2024', 'count': 0}   \n",
       "\n",
       "                                  aug_month  monthwise_oct_month  oct_counts  \n",
       "0    {'month': 'August 2024', 'count': 361}                  NaN         NaN  \n",
       "1      {'month': 'August 2024', 'count': 0}                  NaN         NaN  \n",
       "2      {'month': 'August 2024', 'count': 0}                  NaN         NaN  \n",
       "3    {'month': 'August 2024', 'count': 328}                  NaN         NaN  \n",
       "4      {'month': 'August 2024', 'count': 0}                  NaN         NaN  \n",
       "..                                      ...                  ...         ...  \n",
       "199    {'month': 'August 2024', 'count': 0}                  NaN         NaN  \n",
       "200    {'month': 'August 2024', 'count': 0}                  NaN         NaN  \n",
       "201    {'month': 'August 2024', 'count': 0}                  NaN         NaN  \n",
       "202    {'month': 'August 2024', 'count': 0}                  NaN         NaN  \n",
       "203    {'month': 'August 2024', 'count': 0}                  NaN         NaN  \n",
       "\n",
       "[204 rows x 7 columns]"
      ]
     },
     "execution_count": 288,
     "metadata": {},
     "output_type": "execute_result"
    }
   ],
   "source": [
    "df = pd.concat([df, oct_months], axis = 1)\n",
    "df.drop(columns= 'oct_month')"
   ]
  },
  {
   "cell_type": "code",
   "execution_count": 289,
   "id": "a59b3615-226f-45bd-adff-feeefce267be",
   "metadata": {},
   "outputs": [
    {
     "data": {
      "text/html": [
       "<div>\n",
       "<style scoped>\n",
       "    .dataframe tbody tr th:only-of-type {\n",
       "        vertical-align: middle;\n",
       "    }\n",
       "\n",
       "    .dataframe tbody tr th {\n",
       "        vertical-align: top;\n",
       "    }\n",
       "\n",
       "    .dataframe thead th {\n",
       "        text-align: right;\n",
       "    }\n",
       "</style>\n",
       "<table border=\"1\" class=\"dataframe\">\n",
       "  <thead>\n",
       "    <tr style=\"text-align: right;\">\n",
       "      <th></th>\n",
       "      <th>location</th>\n",
       "      <th>address</th>\n",
       "      <th>diseaseWiseMonthCount</th>\n",
       "      <th>oct_month</th>\n",
       "      <th>sep_month</th>\n",
       "      <th>aug_month</th>\n",
       "      <th>monthwise_oct_month</th>\n",
       "      <th>oct_counts</th>\n",
       "    </tr>\n",
       "  </thead>\n",
       "  <tbody>\n",
       "    <tr>\n",
       "      <th>0</th>\n",
       "      <td></td>\n",
       "      <td>Office 1102, Montvert Office Spaces, Opp to Na...</td>\n",
       "      <td>[{'month': 'October 2024', 'diseaseWiseCount':...</td>\n",
       "      <td>{'month': 'October 2024', 'count': 221}</td>\n",
       "      <td>{'month': 'September 2024', 'count': 265}</td>\n",
       "      <td>{'month': 'August 2024', 'count': 361}</td>\n",
       "      <td>NaN</td>\n",
       "      <td>NaN</td>\n",
       "    </tr>\n",
       "    <tr>\n",
       "      <th>1</th>\n",
       "      <td></td>\n",
       "      <td>Office 1102, Montvert Office Spaces, Opp to Na...</td>\n",
       "      <td>[]</td>\n",
       "      <td>{'month': 'October 2024', 'count': 0}</td>\n",
       "      <td>{'month': 'September 2024', 'count': 0}</td>\n",
       "      <td>{'month': 'August 2024', 'count': 0}</td>\n",
       "      <td>NaN</td>\n",
       "      <td>NaN</td>\n",
       "    </tr>\n",
       "    <tr>\n",
       "      <th>2</th>\n",
       "      <td>pune</td>\n",
       "      <td>Baner ,Pune</td>\n",
       "      <td>[{'month': 'October 2024', 'diseaseWiseCount':...</td>\n",
       "      <td>{'month': 'October 2024', 'count': 2}</td>\n",
       "      <td>{'month': 'September 2024', 'count': 0}</td>\n",
       "      <td>{'month': 'August 2024', 'count': 0}</td>\n",
       "      <td>NaN</td>\n",
       "      <td>NaN</td>\n",
       "    </tr>\n",
       "    <tr>\n",
       "      <th>3</th>\n",
       "      <td>karad</td>\n",
       "      <td>Karad</td>\n",
       "      <td>[{'month': 'October 2024', 'diseaseWiseCount':...</td>\n",
       "      <td>{'month': 'October 2024', 'count': 341}</td>\n",
       "      <td>{'month': 'September 2024', 'count': 592}</td>\n",
       "      <td>{'month': 'August 2024', 'count': 328}</td>\n",
       "      <td>NaN</td>\n",
       "      <td>NaN</td>\n",
       "    </tr>\n",
       "    <tr>\n",
       "      <th>4</th>\n",
       "      <td>navsari</td>\n",
       "      <td>Navsari</td>\n",
       "      <td>[]</td>\n",
       "      <td>{'month': 'October 2024', 'count': 0}</td>\n",
       "      <td>{'month': 'September 2024', 'count': 0}</td>\n",
       "      <td>{'month': 'August 2024', 'count': 0}</td>\n",
       "      <td>NaN</td>\n",
       "      <td>NaN</td>\n",
       "    </tr>\n",
       "  </tbody>\n",
       "</table>\n",
       "</div>"
      ],
      "text/plain": [
       "  location                                            address  \\\n",
       "0           Office 1102, Montvert Office Spaces, Opp to Na...   \n",
       "1           Office 1102, Montvert Office Spaces, Opp to Na...   \n",
       "2     pune                                        Baner ,Pune   \n",
       "3    karad                                              Karad   \n",
       "4  navsari                                            Navsari   \n",
       "\n",
       "                               diseaseWiseMonthCount  \\\n",
       "0  [{'month': 'October 2024', 'diseaseWiseCount':...   \n",
       "1                                                 []   \n",
       "2  [{'month': 'October 2024', 'diseaseWiseCount':...   \n",
       "3  [{'month': 'October 2024', 'diseaseWiseCount':...   \n",
       "4                                                 []   \n",
       "\n",
       "                                 oct_month  \\\n",
       "0  {'month': 'October 2024', 'count': 221}   \n",
       "1    {'month': 'October 2024', 'count': 0}   \n",
       "2    {'month': 'October 2024', 'count': 2}   \n",
       "3  {'month': 'October 2024', 'count': 341}   \n",
       "4    {'month': 'October 2024', 'count': 0}   \n",
       "\n",
       "                                   sep_month  \\\n",
       "0  {'month': 'September 2024', 'count': 265}   \n",
       "1    {'month': 'September 2024', 'count': 0}   \n",
       "2    {'month': 'September 2024', 'count': 0}   \n",
       "3  {'month': 'September 2024', 'count': 592}   \n",
       "4    {'month': 'September 2024', 'count': 0}   \n",
       "\n",
       "                                aug_month  monthwise_oct_month  oct_counts  \n",
       "0  {'month': 'August 2024', 'count': 361}                  NaN         NaN  \n",
       "1    {'month': 'August 2024', 'count': 0}                  NaN         NaN  \n",
       "2    {'month': 'August 2024', 'count': 0}                  NaN         NaN  \n",
       "3  {'month': 'August 2024', 'count': 328}                  NaN         NaN  \n",
       "4    {'month': 'August 2024', 'count': 0}                  NaN         NaN  "
      ]
     },
     "execution_count": 289,
     "metadata": {},
     "output_type": "execute_result"
    }
   ],
   "source": [
    "df.head()"
   ]
  },
  {
   "cell_type": "code",
   "execution_count": null,
   "id": "bc24cd0c-a3f2-4ca2-a5b9-c7294f3e2e39",
   "metadata": {},
   "outputs": [],
   "source": []
  },
  {
   "cell_type": "code",
   "execution_count": null,
   "id": "24dcb93d-c4ec-420a-bb93-1c1e5a299a77",
   "metadata": {},
   "outputs": [],
   "source": []
  },
  {
   "cell_type": "code",
   "execution_count": null,
   "id": "758aeb5c-b987-4804-a6ff-d31f030ba88f",
   "metadata": {},
   "outputs": [],
   "source": []
  },
  {
   "cell_type": "code",
   "execution_count": null,
   "id": "c514b161-01bb-44cd-a658-87948d97d27b",
   "metadata": {},
   "outputs": [],
   "source": []
  },
  {
   "cell_type": "code",
   "execution_count": null,
   "id": "1a7a770a-77ea-47ce-b0b4-88626848c6fb",
   "metadata": {},
   "outputs": [],
   "source": []
  },
  {
   "cell_type": "code",
   "execution_count": null,
   "id": "6c5b37f5-3c33-4e7b-adb8-385a557d1bcf",
   "metadata": {},
   "outputs": [],
   "source": []
  },
  {
   "cell_type": "code",
   "execution_count": null,
   "id": "02c793ad-a9c9-4272-b9a6-0a23b9522c62",
   "metadata": {},
   "outputs": [],
   "source": []
  },
  {
   "cell_type": "code",
   "execution_count": null,
   "id": "36f01f09-dae0-40dc-ad8f-8e435185b293",
   "metadata": {},
   "outputs": [],
   "source": []
  },
  {
   "cell_type": "code",
   "execution_count": null,
   "id": "309cbc83-caef-4eb7-bc2c-934834a89327",
   "metadata": {},
   "outputs": [],
   "source": []
  },
  {
   "cell_type": "code",
   "execution_count": null,
   "id": "c72b9b48-59e0-4231-a84a-bb325be52bb4",
   "metadata": {},
   "outputs": [],
   "source": []
  },
  {
   "cell_type": "code",
   "execution_count": null,
   "id": "a35f1c2d-0321-47e4-b381-6eec72be855d",
   "metadata": {},
   "outputs": [],
   "source": []
  },
  {
   "cell_type": "code",
   "execution_count": null,
   "id": "20d50032-9a85-4f43-a394-552e60da7bc7",
   "metadata": {},
   "outputs": [],
   "source": []
  },
  {
   "cell_type": "code",
   "execution_count": null,
   "id": "5da63a74-1917-4d9d-b49e-29b7e54df3c5",
   "metadata": {},
   "outputs": [],
   "source": []
  },
  {
   "cell_type": "code",
   "execution_count": null,
   "id": "0eddecbf-bd36-41ea-9809-668a834983b5",
   "metadata": {},
   "outputs": [],
   "source": []
  },
  {
   "cell_type": "code",
   "execution_count": null,
   "id": "add06cc6-316c-4376-bc4c-804715a2fbcd",
   "metadata": {},
   "outputs": [],
   "source": []
  },
  {
   "cell_type": "code",
   "execution_count": null,
   "id": "5b922b03-4552-40e6-9b3f-13f42166ecc5",
   "metadata": {},
   "outputs": [],
   "source": []
  },
  {
   "cell_type": "code",
   "execution_count": 189,
   "id": "d403583c-c072-4d74-ab32-ab8c6d340581",
   "metadata": {},
   "outputs": [
    {
     "data": {
      "text/plain": [
       "location                 0\n",
       "address                  0\n",
       "diseaseWiseMonthCount    0\n",
       "oct_month                0\n",
       "sep_month                0\n",
       "aug_month                0\n",
       "dtype: int64"
      ]
     },
     "execution_count": 189,
     "metadata": {},
     "output_type": "execute_result"
    }
   ],
   "source": [
    "df.isna().sum()"
   ]
  },
  {
   "cell_type": "code",
   "execution_count": 190,
   "id": "e9010456-cf1e-43e8-a6cb-c8febebf4b3c",
   "metadata": {},
   "outputs": [
    {
     "data": {
      "text/html": [
       "<div>\n",
       "<style scoped>\n",
       "    .dataframe tbody tr th:only-of-type {\n",
       "        vertical-align: middle;\n",
       "    }\n",
       "\n",
       "    .dataframe tbody tr th {\n",
       "        vertical-align: top;\n",
       "    }\n",
       "\n",
       "    .dataframe thead th {\n",
       "        text-align: right;\n",
       "    }\n",
       "</style>\n",
       "<table border=\"1\" class=\"dataframe\">\n",
       "  <thead>\n",
       "    <tr style=\"text-align: right;\">\n",
       "      <th></th>\n",
       "      <th>location</th>\n",
       "      <th>address</th>\n",
       "      <th>diseaseWiseMonthCount</th>\n",
       "      <th>oct_month</th>\n",
       "      <th>sep_month</th>\n",
       "      <th>aug_month</th>\n",
       "    </tr>\n",
       "  </thead>\n",
       "  <tbody>\n",
       "    <tr>\n",
       "      <th>0</th>\n",
       "      <td></td>\n",
       "      <td>Office 1102, Montvert Office Spaces, Opp to Na...</td>\n",
       "      <td>[{'month': 'October 2024', 'diseaseWiseCount':...</td>\n",
       "      <td>{'month': 'October 2024', 'count': 221}</td>\n",
       "      <td>{'month': 'September 2024', 'count': 265}</td>\n",
       "      <td>{'month': 'August 2024', 'count': 361}</td>\n",
       "    </tr>\n",
       "    <tr>\n",
       "      <th>1</th>\n",
       "      <td></td>\n",
       "      <td>Office 1102, Montvert Office Spaces, Opp to Na...</td>\n",
       "      <td>[]</td>\n",
       "      <td>{'month': 'October 2024', 'count': 0}</td>\n",
       "      <td>{'month': 'September 2024', 'count': 0}</td>\n",
       "      <td>{'month': 'August 2024', 'count': 0}</td>\n",
       "    </tr>\n",
       "    <tr>\n",
       "      <th>2</th>\n",
       "      <td>pune</td>\n",
       "      <td>Baner ,Pune</td>\n",
       "      <td>[{'month': 'October 2024', 'diseaseWiseCount':...</td>\n",
       "      <td>{'month': 'October 2024', 'count': 2}</td>\n",
       "      <td>{'month': 'September 2024', 'count': 0}</td>\n",
       "      <td>{'month': 'August 2024', 'count': 0}</td>\n",
       "    </tr>\n",
       "    <tr>\n",
       "      <th>3</th>\n",
       "      <td>karad</td>\n",
       "      <td>Karad</td>\n",
       "      <td>[{'month': 'October 2024', 'diseaseWiseCount':...</td>\n",
       "      <td>{'month': 'October 2024', 'count': 341}</td>\n",
       "      <td>{'month': 'September 2024', 'count': 592}</td>\n",
       "      <td>{'month': 'August 2024', 'count': 328}</td>\n",
       "    </tr>\n",
       "    <tr>\n",
       "      <th>4</th>\n",
       "      <td>navsari</td>\n",
       "      <td>Navsari</td>\n",
       "      <td>[]</td>\n",
       "      <td>{'month': 'October 2024', 'count': 0}</td>\n",
       "      <td>{'month': 'September 2024', 'count': 0}</td>\n",
       "      <td>{'month': 'August 2024', 'count': 0}</td>\n",
       "    </tr>\n",
       "  </tbody>\n",
       "</table>\n",
       "</div>"
      ],
      "text/plain": [
       "  location                                            address  \\\n",
       "0           Office 1102, Montvert Office Spaces, Opp to Na...   \n",
       "1           Office 1102, Montvert Office Spaces, Opp to Na...   \n",
       "2     pune                                        Baner ,Pune   \n",
       "3    karad                                              Karad   \n",
       "4  navsari                                            Navsari   \n",
       "\n",
       "                               diseaseWiseMonthCount  \\\n",
       "0  [{'month': 'October 2024', 'diseaseWiseCount':...   \n",
       "1                                                 []   \n",
       "2  [{'month': 'October 2024', 'diseaseWiseCount':...   \n",
       "3  [{'month': 'October 2024', 'diseaseWiseCount':...   \n",
       "4                                                 []   \n",
       "\n",
       "                                 oct_month  \\\n",
       "0  {'month': 'October 2024', 'count': 221}   \n",
       "1    {'month': 'October 2024', 'count': 0}   \n",
       "2    {'month': 'October 2024', 'count': 2}   \n",
       "3  {'month': 'October 2024', 'count': 341}   \n",
       "4    {'month': 'October 2024', 'count': 0}   \n",
       "\n",
       "                                   sep_month  \\\n",
       "0  {'month': 'September 2024', 'count': 265}   \n",
       "1    {'month': 'September 2024', 'count': 0}   \n",
       "2    {'month': 'September 2024', 'count': 0}   \n",
       "3  {'month': 'September 2024', 'count': 592}   \n",
       "4    {'month': 'September 2024', 'count': 0}   \n",
       "\n",
       "                                aug_month  \n",
       "0  {'month': 'August 2024', 'count': 361}  \n",
       "1    {'month': 'August 2024', 'count': 0}  \n",
       "2    {'month': 'August 2024', 'count': 0}  \n",
       "3  {'month': 'August 2024', 'count': 328}  \n",
       "4    {'month': 'August 2024', 'count': 0}  "
      ]
     },
     "execution_count": 190,
     "metadata": {},
     "output_type": "execute_result"
    }
   ],
   "source": [
    "df.head()"
   ]
  },
  {
   "cell_type": "code",
   "execution_count": null,
   "id": "e46ccc70-c58d-48a8-9be3-bb26e98ff0c0",
   "metadata": {},
   "outputs": [],
   "source": [
    "month_sep = pd.DataFrame(df['oct_month']"
   ]
  },
  {
   "cell_type": "code",
   "execution_count": null,
   "id": "3b877092-7183-4385-82ed-f6e94ff96f79",
   "metadata": {},
   "outputs": [],
   "source": []
  },
  {
   "cell_type": "code",
   "execution_count": 116,
   "id": "c23d5359-ef22-4a92-8fc0-6be0445905a7",
   "metadata": {},
   "outputs": [
    {
     "data": {
      "text/plain": [
       "172"
      ]
     },
     "execution_count": 116,
     "metadata": {},
     "output_type": "execute_result"
    }
   ],
   "source": [
    "df['address'].nunique()"
   ]
  },
  {
   "cell_type": "code",
   "execution_count": 117,
   "id": "791b9214-7172-41ce-8896-8a7988044ee9",
   "metadata": {},
   "outputs": [
    {
     "data": {
      "text/html": [
       "<div>\n",
       "<style scoped>\n",
       "    .dataframe tbody tr th:only-of-type {\n",
       "        vertical-align: middle;\n",
       "    }\n",
       "\n",
       "    .dataframe tbody tr th {\n",
       "        vertical-align: top;\n",
       "    }\n",
       "\n",
       "    .dataframe thead th {\n",
       "        text-align: right;\n",
       "    }\n",
       "</style>\n",
       "<table border=\"1\" class=\"dataframe\">\n",
       "  <thead>\n",
       "    <tr style=\"text-align: right;\">\n",
       "      <th></th>\n",
       "      <th>doctor</th>\n",
       "      <th>clinic</th>\n",
       "      <th>clinicMobile</th>\n",
       "      <th>location</th>\n",
       "      <th>address</th>\n",
       "      <th>kiosk</th>\n",
       "      <th>monthWiseCounts</th>\n",
       "      <th>diseaseWiseMonthCount</th>\n",
       "      <th>activeInLast7Days</th>\n",
       "    </tr>\n",
       "  </thead>\n",
       "  <tbody>\n",
       "    <tr>\n",
       "      <th>0</th>\n",
       "      <td>chief dentist name</td>\n",
       "      <td>Your Clinic Name</td>\n",
       "      <td>+917840001315</td>\n",
       "      <td></td>\n",
       "      <td>Office 1102, Montvert Office Spaces, Opp to Na...</td>\n",
       "      <td>Test kiosk</td>\n",
       "      <td>[{'month': 'October 2024', 'count': 221}, {'mo...</td>\n",
       "      <td>[{'month': 'October 2024', 'diseaseWiseCount':...</td>\n",
       "      <td>False</td>\n",
       "    </tr>\n",
       "    <tr>\n",
       "      <th>1</th>\n",
       "      <td>chief dentist name</td>\n",
       "      <td>Your Clinic Name</td>\n",
       "      <td>+917840001315</td>\n",
       "      <td></td>\n",
       "      <td>Office 1102, Montvert Office Spaces, Opp to Na...</td>\n",
       "      <td>Kiosk</td>\n",
       "      <td>[{'month': 'October 2024', 'count': 0}, {'mont...</td>\n",
       "      <td>[]</td>\n",
       "      <td>False</td>\n",
       "    </tr>\n",
       "    <tr>\n",
       "      <th>2</th>\n",
       "      <td>vidhi bhanushali</td>\n",
       "      <td>Dentaldost Office</td>\n",
       "      <td>7507242121</td>\n",
       "      <td>pune</td>\n",
       "      <td>Baner ,Pune</td>\n",
       "      <td>test</td>\n",
       "      <td>[{'month': 'October 2024', 'count': 2}, {'mont...</td>\n",
       "      <td>[{'month': 'October 2024', 'diseaseWiseCount':...</td>\n",
       "      <td>False</td>\n",
       "    </tr>\n",
       "    <tr>\n",
       "      <th>3</th>\n",
       "      <td>dr. shashikiran nd</td>\n",
       "      <td>Krishna Institute of Dental Sciences</td>\n",
       "      <td>9630070092</td>\n",
       "      <td>karad</td>\n",
       "      <td>Karad</td>\n",
       "      <td>Kiosk-Karad</td>\n",
       "      <td>[{'month': 'October 2024', 'count': 341}, {'mo...</td>\n",
       "      <td>[{'month': 'October 2024', 'diseaseWiseCount':...</td>\n",
       "      <td>False</td>\n",
       "    </tr>\n",
       "    <tr>\n",
       "      <th>4</th>\n",
       "      <td>dr. mitul patel</td>\n",
       "      <td>Riddhi Dental Hospital</td>\n",
       "      <td>9157780000</td>\n",
       "      <td>navsari</td>\n",
       "      <td>Navsari</td>\n",
       "      <td>Kiosk-Navsari</td>\n",
       "      <td>[{'month': 'October 2024', 'count': 0}, {'mont...</td>\n",
       "      <td>[]</td>\n",
       "      <td>False</td>\n",
       "    </tr>\n",
       "  </tbody>\n",
       "</table>\n",
       "</div>"
      ],
      "text/plain": [
       "               doctor                                clinic   clinicMobile  \\\n",
       "0  chief dentist name                      Your Clinic Name  +917840001315   \n",
       "1  chief dentist name                      Your Clinic Name  +917840001315   \n",
       "2    vidhi bhanushali                     Dentaldost Office     7507242121   \n",
       "3  dr. shashikiran nd  Krishna Institute of Dental Sciences     9630070092   \n",
       "4     dr. mitul patel                Riddhi Dental Hospital     9157780000   \n",
       "\n",
       "  location                                            address          kiosk  \\\n",
       "0           Office 1102, Montvert Office Spaces, Opp to Na...     Test kiosk   \n",
       "1           Office 1102, Montvert Office Spaces, Opp to Na...          Kiosk   \n",
       "2     pune                                        Baner ,Pune           test   \n",
       "3    karad                                              Karad    Kiosk-Karad   \n",
       "4  navsari                                            Navsari  Kiosk-Navsari   \n",
       "\n",
       "                                     monthWiseCounts  \\\n",
       "0  [{'month': 'October 2024', 'count': 221}, {'mo...   \n",
       "1  [{'month': 'October 2024', 'count': 0}, {'mont...   \n",
       "2  [{'month': 'October 2024', 'count': 2}, {'mont...   \n",
       "3  [{'month': 'October 2024', 'count': 341}, {'mo...   \n",
       "4  [{'month': 'October 2024', 'count': 0}, {'mont...   \n",
       "\n",
       "                               diseaseWiseMonthCount  activeInLast7Days  \n",
       "0  [{'month': 'October 2024', 'diseaseWiseCount':...              False  \n",
       "1                                                 []              False  \n",
       "2  [{'month': 'October 2024', 'diseaseWiseCount':...              False  \n",
       "3  [{'month': 'October 2024', 'diseaseWiseCount':...              False  \n",
       "4                                                 []              False  "
      ]
     },
     "execution_count": 117,
     "metadata": {},
     "output_type": "execute_result"
    }
   ],
   "source": [
    "df.head()"
   ]
  },
  {
   "cell_type": "code",
   "execution_count": 118,
   "id": "1333a54a-4d87-42a9-a6f3-294f33bbab53",
   "metadata": {},
   "outputs": [
    {
     "data": {
      "text/plain": [
       "Index(['doctor', 'clinic', 'clinicMobile', 'location', 'address', 'kiosk',\n",
       "       'monthWiseCounts', 'diseaseWiseMonthCount', 'activeInLast7Days'],\n",
       "      dtype='object')"
      ]
     },
     "execution_count": 118,
     "metadata": {},
     "output_type": "execute_result"
    }
   ],
   "source": [
    "df.columns"
   ]
  },
  {
   "cell_type": "code",
   "execution_count": 119,
   "id": "3eacc284-51e2-4d52-b917-e7543afbcc31",
   "metadata": {},
   "outputs": [
    {
     "data": {
      "text/plain": [
       "array(['', 'pune', 'karad', 'navsari', 'tiruvannamalai', 'vizianagram',\n",
       "       'secunderabad', 'trivandrum', 'guwahati', 'siddipet', 'imphal',\n",
       "       'dhamtari', 'nagpur', 'kochi', 'surat', 'hyderabad', 'thanjavur',\n",
       "       'pondicherry', 'kalyana mandabam', 'dubai', 'srinagar',\n",
       "       'ghaziabad', 'bengaluru'], dtype=object)"
      ]
     },
     "execution_count": 119,
     "metadata": {},
     "output_type": "execute_result"
    }
   ],
   "source": [
    "df['location'].unique()"
   ]
  },
  {
   "cell_type": "code",
   "execution_count": 120,
   "id": "2cdbca46-d719-47d0-a1d4-5b220808b328",
   "metadata": {},
   "outputs": [
    {
     "data": {
      "text/plain": [
       "0"
      ]
     },
     "execution_count": 120,
     "metadata": {},
     "output_type": "execute_result"
    }
   ],
   "source": [
    "df['address'].isna().sum()"
   ]
  },
  {
   "cell_type": "code",
   "execution_count": 121,
   "id": "d3ce24be-d102-4b53-b3a8-0085308a8427",
   "metadata": {},
   "outputs": [],
   "source": [
    "df = df.map(lambda x:x.lower() if isinstance(x,str) else x)"
   ]
  },
  {
   "cell_type": "code",
   "execution_count": null,
   "id": "8bdd2989-1fc9-4038-83bf-bbf8038184e2",
   "metadata": {},
   "outputs": [],
   "source": [
    "def remove_phn_initials(clinicMobile):\n",
    "    for phn in df['clinic"
   ]
  },
  {
   "cell_type": "code",
   "execution_count": 122,
   "id": "fdcf89aa-961f-4277-b666-7e8ba02e8a93",
   "metadata": {},
   "outputs": [],
   "source": [
    "def match_and_convert(address, location):\n",
    "    for address in df['address']:\n",
    "        for location in df['location']:\n",
    "            if address in df['location']:\n",
    "                df['address'] = address\n",
    "                break\n",
    "        return address"
   ]
  },
  {
   "cell_type": "code",
   "execution_count": 123,
   "id": "7de2787c-1f5f-45d5-a933-3e6480343527",
   "metadata": {},
   "outputs": [],
   "source": [
    "df['location'] = match_and_convert(df['address'],df['location'])"
   ]
  },
  {
   "cell_type": "code",
   "execution_count": 124,
   "id": "49fb86a7-cbdf-401f-9930-2abbad8d80fb",
   "metadata": {},
   "outputs": [
    {
     "data": {
      "text/plain": [
       "0      office 1102, montvert office spaces, opp to na...\n",
       "1      office 1102, montvert office spaces, opp to na...\n",
       "2      office 1102, montvert office spaces, opp to na...\n",
       "3      office 1102, montvert office spaces, opp to na...\n",
       "4      office 1102, montvert office spaces, opp to na...\n",
       "                             ...                        \n",
       "199    office 1102, montvert office spaces, opp to na...\n",
       "200    office 1102, montvert office spaces, opp to na...\n",
       "201    office 1102, montvert office spaces, opp to na...\n",
       "202    office 1102, montvert office spaces, opp to na...\n",
       "203    office 1102, montvert office spaces, opp to na...\n",
       "Name: location, Length: 204, dtype: object"
      ]
     },
     "execution_count": 124,
     "metadata": {},
     "output_type": "execute_result"
    }
   ],
   "source": [
    "df['location']"
   ]
  },
  {
   "cell_type": "code",
   "execution_count": 125,
   "id": "fe77f6c1-6b1d-4d4a-9ec6-ad9e69f28814",
   "metadata": {},
   "outputs": [
    {
     "data": {
      "text/plain": [
       "172"
      ]
     },
     "execution_count": 125,
     "metadata": {},
     "output_type": "execute_result"
    }
   ],
   "source": [
    "df['address'].nunique()"
   ]
  },
  {
   "cell_type": "code",
   "execution_count": 72,
   "id": "e0f924f6-d1e3-432a-ac0b-3b0b24142ae1",
   "metadata": {},
   "outputs": [
    {
     "data": {
      "text/html": [
       "<div>\n",
       "<style scoped>\n",
       "    .dataframe tbody tr th:only-of-type {\n",
       "        vertical-align: middle;\n",
       "    }\n",
       "\n",
       "    .dataframe tbody tr th {\n",
       "        vertical-align: top;\n",
       "    }\n",
       "\n",
       "    .dataframe thead th {\n",
       "        text-align: right;\n",
       "    }\n",
       "</style>\n",
       "<table border=\"1\" class=\"dataframe\">\n",
       "  <thead>\n",
       "    <tr style=\"text-align: right;\">\n",
       "      <th></th>\n",
       "      <th>doctor</th>\n",
       "      <th>clinic</th>\n",
       "      <th>clinicMobile</th>\n",
       "      <th>location</th>\n",
       "      <th>address</th>\n",
       "      <th>kiosk</th>\n",
       "      <th>monthWiseCounts</th>\n",
       "      <th>diseaseWiseMonthCount</th>\n",
       "      <th>activeInLast7Days</th>\n",
       "    </tr>\n",
       "  </thead>\n",
       "  <tbody>\n",
       "    <tr>\n",
       "      <th>0</th>\n",
       "      <td>chief dentist name</td>\n",
       "      <td>your clinic name</td>\n",
       "      <td>+917840001315</td>\n",
       "      <td></td>\n",
       "      <td>bengaluru</td>\n",
       "      <td>test kiosk</td>\n",
       "      <td>[{'month': 'October 2024', 'count': 221}, {'mo...</td>\n",
       "      <td>[{'month': 'October 2024', 'diseaseWiseCount':...</td>\n",
       "      <td>False</td>\n",
       "    </tr>\n",
       "    <tr>\n",
       "      <th>1</th>\n",
       "      <td>chief dentist name</td>\n",
       "      <td>your clinic name</td>\n",
       "      <td>+917840001315</td>\n",
       "      <td></td>\n",
       "      <td>bengaluru</td>\n",
       "      <td>kiosk</td>\n",
       "      <td>[{'month': 'October 2024', 'count': 0}, {'mont...</td>\n",
       "      <td>[]</td>\n",
       "      <td>False</td>\n",
       "    </tr>\n",
       "    <tr>\n",
       "      <th>2</th>\n",
       "      <td>vidhi bhanushali</td>\n",
       "      <td>dentaldost office</td>\n",
       "      <td>7507242121</td>\n",
       "      <td>pune</td>\n",
       "      <td>bengaluru</td>\n",
       "      <td>test</td>\n",
       "      <td>[{'month': 'October 2024', 'count': 2}, {'mont...</td>\n",
       "      <td>[{'month': 'October 2024', 'diseaseWiseCount':...</td>\n",
       "      <td>False</td>\n",
       "    </tr>\n",
       "    <tr>\n",
       "      <th>3</th>\n",
       "      <td>dr. shashikiran nd</td>\n",
       "      <td>krishna institute of dental sciences</td>\n",
       "      <td>9630070092</td>\n",
       "      <td>karad</td>\n",
       "      <td>bengaluru</td>\n",
       "      <td>kiosk-karad</td>\n",
       "      <td>[{'month': 'October 2024', 'count': 341}, {'mo...</td>\n",
       "      <td>[{'month': 'October 2024', 'diseaseWiseCount':...</td>\n",
       "      <td>False</td>\n",
       "    </tr>\n",
       "    <tr>\n",
       "      <th>4</th>\n",
       "      <td>dr. mitul patel</td>\n",
       "      <td>riddhi dental hospital</td>\n",
       "      <td>9157780000</td>\n",
       "      <td>navsari</td>\n",
       "      <td>bengaluru</td>\n",
       "      <td>kiosk-navsari</td>\n",
       "      <td>[{'month': 'October 2024', 'count': 0}, {'mont...</td>\n",
       "      <td>[]</td>\n",
       "      <td>False</td>\n",
       "    </tr>\n",
       "  </tbody>\n",
       "</table>\n",
       "</div>"
      ],
      "text/plain": [
       "               doctor                                clinic   clinicMobile  \\\n",
       "0  chief dentist name                      your clinic name  +917840001315   \n",
       "1  chief dentist name                      your clinic name  +917840001315   \n",
       "2    vidhi bhanushali                     dentaldost office     7507242121   \n",
       "3  dr. shashikiran nd  krishna institute of dental sciences     9630070092   \n",
       "4     dr. mitul patel                riddhi dental hospital     9157780000   \n",
       "\n",
       "  location    address          kiosk  \\\n",
       "0           bengaluru     test kiosk   \n",
       "1           bengaluru          kiosk   \n",
       "2     pune  bengaluru           test   \n",
       "3    karad  bengaluru    kiosk-karad   \n",
       "4  navsari  bengaluru  kiosk-navsari   \n",
       "\n",
       "                                     monthWiseCounts  \\\n",
       "0  [{'month': 'October 2024', 'count': 221}, {'mo...   \n",
       "1  [{'month': 'October 2024', 'count': 0}, {'mont...   \n",
       "2  [{'month': 'October 2024', 'count': 2}, {'mont...   \n",
       "3  [{'month': 'October 2024', 'count': 341}, {'mo...   \n",
       "4  [{'month': 'October 2024', 'count': 0}, {'mont...   \n",
       "\n",
       "                               diseaseWiseMonthCount  activeInLast7Days  \n",
       "0  [{'month': 'October 2024', 'diseaseWiseCount':...              False  \n",
       "1                                                 []              False  \n",
       "2  [{'month': 'October 2024', 'diseaseWiseCount':...              False  \n",
       "3  [{'month': 'October 2024', 'diseaseWiseCount':...              False  \n",
       "4                                                 []              False  "
      ]
     },
     "execution_count": 72,
     "metadata": {},
     "output_type": "execute_result"
    }
   ],
   "source": [
    "df.head()"
   ]
  },
  {
   "cell_type": "code",
   "execution_count": null,
   "id": "cdeee630-106d-49af-a16e-aff588b6aeaa",
   "metadata": {},
   "outputs": [],
   "source": []
  }
 ],
 "metadata": {
  "kernelspec": {
   "display_name": "Python 3 (ipykernel)",
   "language": "python",
   "name": "python3"
  },
  "language_info": {
   "codemirror_mode": {
    "name": "ipython",
    "version": 3
   },
   "file_extension": ".py",
   "mimetype": "text/x-python",
   "name": "python",
   "nbconvert_exporter": "python",
   "pygments_lexer": "ipython3",
   "version": "3.12.2"
  }
 },
 "nbformat": 4,
 "nbformat_minor": 5
}
